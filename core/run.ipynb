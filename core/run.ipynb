{
 "cells": [
  {
   "cell_type": "markdown",
   "id": "70db9773",
   "metadata": {},
   "source": [
    "# Voting Influence and Concentration Analysis (VICA)"
   ]
  },
  {
   "cell_type": "markdown",
   "id": "69e0e56a",
   "metadata": {},
   "source": [
    "## Process Data"
   ]
  },
  {
   "cell_type": "code",
   "execution_count": 1,
   "id": "10a6199f",
   "metadata": {},
   "outputs": [],
   "source": [
    "import pandas as pd\n",
    "from data_processor import process_data\n",
    "\n",
    "# # Process from raw data (if raw data has been updated)\n",
    "# df_token_house_top_200, df_citizen_house, df_summary = process_data()\n",
    "# df_token_house_top_200.to_csv('../data/token_house.csv')\n",
    "# df_citizen_house.to_csv('../data/citizen_house.csv')\n",
    "# df_summary.to_csv('../data/summary.csv')\n",
    "\n",
    "# Use processed data from 2024-07-01\n",
    "df_token_house_top_200 = pd.read_csv('../data/token_house.csv')\n",
    "df_citizen_house = pd.read_csv('../data/citizen_house.csv')\n",
    "df_summary = pd.read_csv('../data/summary.csv')"
   ]
  },
  {
   "cell_type": "markdown",
   "id": "144e78d5",
   "metadata": {},
   "source": [
    "## Run VICA"
   ]
  },
  {
   "cell_type": "code",
   "execution_count": null,
   "id": "7e7bd7e9",
   "metadata": {},
   "outputs": [],
   "source": [
    "from vica import *\n",
    "\n",
    "# further process data and convert to R\n",
    "(prop_token_filter, prop_cit_filter,prop_token_filter_add, prop_cit_filter_add) = process_data_and_convert_to_r(df_token_house_top_200, df_citizen_house, df_summary)\n",
    "# run VICA\n",
    "results_dict = run_vica_all(prop_token_filter, prop_cit_filter,prop_token_filter_add, prop_cit_filter_add)\n",
    "# Get states\n",
    "df_stats = run_stats(results_dict)\n"
   ]
  },
  {
   "cell_type": "markdown",
   "id": "a79a1173",
   "metadata": {},
   "source": [
    "## Save Results and Upload to Dune"
   ]
  },
  {
   "cell_type": "code",
   "execution_count": 3,
   "id": "1f54a08b",
   "metadata": {},
   "outputs": [],
   "source": [
    "results_output_file_path = '../results/results.csv'\n",
    "\n",
    "df_stats.to_csv(results_output_file_path,mode='a',header=not pd.io.common.file_exists(results_output_file_path),index=False)\n"
   ]
  },
  {
   "cell_type": "code",
   "execution_count": 4,
   "id": "57ee8877",
   "metadata": {},
   "outputs": [],
   "source": [
    "from dune_uploader import upload_data\n",
    "\n",
    "upload_data(results_output_file_path)"
   ]
  },
  {
   "cell_type": "markdown",
   "id": "a245cc0f",
   "metadata": {},
   "source": [
    "## Explore and Expirement"
   ]
  },
  {
   "cell_type": "code",
   "execution_count": null,
   "id": "7b3f6ff2",
   "metadata": {},
   "outputs": [],
   "source": [
    "results_dict['token_house'].keys()"
   ]
  },
  {
   "cell_type": "code",
   "execution_count": null,
   "id": "3917cf20",
   "metadata": {},
   "outputs": [],
   "source": [
    "prop_token_filter_add[2]"
   ]
  },
  {
   "cell_type": "code",
   "execution_count": null,
   "id": "9d093c76",
   "metadata": {},
   "outputs": [],
   "source": [
    "num_groups = np.unique(np.array(results_dict['token_house']['community_detection'][1])).size\n",
    "print(num_groups)\n",
    "np.log(num_groups)"
   ]
  },
  {
   "cell_type": "code",
   "execution_count": null,
   "id": "4e976792",
   "metadata": {},
   "outputs": [],
   "source": [
    "num_groups = np.array(results_dict['citizen_house']['community_detection'][1]).size\n",
    "print(num_groups)\n",
    "np.log(num_groups)"
   ]
  },
  {
   "cell_type": "code",
   "execution_count": null,
   "id": "8f503981",
   "metadata": {},
   "outputs": [],
   "source": [
    "num_groups = np.array(results_dict['both_houses']['logistic_regression']['factual']['logit_effect']).size\n",
    "print(num_groups)\n",
    "np.log(num_groups)"
   ]
  },
  {
   "cell_type": "code",
   "execution_count": null,
   "id": "73c88067",
   "metadata": {},
   "outputs": [],
   "source": [
    "\n",
    "df_re = results_to_df(results_dict)\n",
    "df_re.to_csv('../results/logit_effects.csv')"
   ]
  },
  {
   "cell_type": "code",
   "execution_count": null,
   "id": "d84b4cb3",
   "metadata": {},
   "outputs": [],
   "source": [
    "df_re.columns"
   ]
  },
  {
   "cell_type": "code",
   "execution_count": null,
   "id": "3bc385ab",
   "metadata": {},
   "outputs": [],
   "source": [
    "df_re.scenario_type.unique()"
   ]
  },
  {
   "cell_type": "code",
   "execution_count": null,
   "id": "0ef70bcd",
   "metadata": {},
   "outputs": [],
   "source": [
    "print(Centrality_statistics(np.array([2.97041446, 20.7015627 , 22.372731  , 22.372731  ,  2.94443897])))"
   ]
  },
  {
   "cell_type": "code",
   "execution_count": null,
   "id": "a332931f",
   "metadata": {},
   "outputs": [],
   "source": [
    "results_dict['token_house']['logistic_regression']['factual']['adjusted_logit_effect']"
   ]
  },
  {
   "cell_type": "code",
   "execution_count": null,
   "id": "ee9fb0be",
   "metadata": {},
   "outputs": [],
   "source": [
    "import matplotlib.pyplot as plt\n",
    "from collections import Counter\n",
    "\n",
    "community_membership = np.array(results_dict['token_house']['community_detection'][1])\n",
    "\n",
    "# Count occurrences of each community\n",
    "community_counts = Counter(community_membership)\n",
    "\n",
    "# Plot the bar chart for community sizes\n",
    "plt.figure(figsize=(12, 6))\n",
    "plt.bar(community_counts.keys(), community_counts.values(), color='skyblue')\n",
    "plt.xlabel('Community')\n",
    "plt.ylabel('Number of Nodes')\n",
    "plt.title('Community Sizes')\n",
    "plt.xticks(rotation=90)\n",
    "plt.tight_layout()\n",
    "plt.show()"
   ]
  },
  {
   "cell_type": "code",
   "execution_count": 64,
   "id": "cfd06a47",
   "metadata": {},
   "outputs": [],
   "source": [
    "\n",
    "\n",
    "community_membership = np.array(results_dict['token_house']['community_detection'][1])\n",
    "community_counts = Counter(community_membership)\n",
    "\n",
    "df1 = pd.DataFrame(list(community_counts.items()), columns=['community', 'counts'])\n",
    "df1['community'] = df1['community'].astype(int)\n",
    "df1['house'] = 'token'"
   ]
  },
  {
   "cell_type": "code",
   "execution_count": 65,
   "id": "eaefe84c",
   "metadata": {},
   "outputs": [],
   "source": [
    "community_membership = np.array(results_dict['citizen_house']['community_detection'][1])\n",
    "community_counts = Counter(community_membership)\n",
    "\n",
    "df2 = pd.DataFrame(list(community_counts.items()), columns=['community', 'counts'])\n",
    "df2['community'] = df2['community'].astype(int)\n",
    "df2['house'] = 'citizen'"
   ]
  },
  {
   "cell_type": "code",
   "execution_count": 67,
   "id": "be72bf18",
   "metadata": {},
   "outputs": [],
   "source": [
    "df_community = pd.concat([df1,df2])"
   ]
  },
  {
   "cell_type": "code",
   "execution_count": 70,
   "id": "8dc7d3cb",
   "metadata": {},
   "outputs": [],
   "source": [
    "df_community.to_csv('../results/community_detection.csv',index=False)"
   ]
  },
  {
   "cell_type": "code",
   "execution_count": null,
   "id": "2240c248",
   "metadata": {},
   "outputs": [],
   "source": [
    "import networkx as nx\n",
    "import matplotlib.pyplot as plt\n",
    "import numpy as np\n",
    "\n",
    "# Simulated graph with 100 nodes and some edges (replace this with your actual graph)\n",
    "G = nx.erdos_renyi_graph(100, 0.05)\n",
    "\n",
    "# Assign colors to nodes based on their community\n",
    "colors = [community_membership[i] for i in G.nodes()]\n",
    "\n",
    "# Draw the graph with node colors corresponding to communities\n",
    "plt.figure(figsize=(10, 10))\n",
    "nx.draw(G, node_color=colors, with_labels=True, cmap=plt.cm.jet, node_size=500)\n",
    "plt.title(\"Graph with Nodes Colored by Community\")\n",
    "plt.show()\n"
   ]
  },
  {
   "cell_type": "code",
   "execution_count": null,
   "id": "7475465d",
   "metadata": {},
   "outputs": [],
   "source": [
    "t = results_dict['token_house']['logistic_regression']['factual']['adjusted_logit_effect']\n",
    "t = t[~np.isnan(t)]\n",
    "np.var(t)"
   ]
  },
  {
   "cell_type": "code",
   "execution_count": null,
   "id": "56f7963f",
   "metadata": {},
   "outputs": [],
   "source": [
    "import numpy as np\n",
    "import matplotlib.pyplot as plt\n",
    "num_points=1\n",
    "# Simulate additional data points for various entities, scenario types, and regression types\n",
    "entities = ['token_house', 'citizen_house', 'both_houses']\n",
    "scenario_types = ['factual']\n",
    "regression_types = ['logit_effect', 'adjusted_logit_effect']\n",
    "dates = df_stats.Date.unique()\n",
    "\n",
    "# Convert to a DataFrame\n",
    "df_simulated =  df_stats\n",
    "\n",
    "# Plot the variance over time for each combination of Entity, Scenario_Type, and Regression_Type\n",
    "plt.figure(figsize=(12, 8))\n",
    "\n",
    "# Plotting for each unique combination\n",
    "for entity in entities:\n",
    "    for scenario in scenario_types:\n",
    "        for regression in regression_types:\n",
    "            subset = df_simulated[(df_simulated['Entity'] == entity) &\n",
    "                                  (df_simulated['Scenario_Type'] == scenario) &\n",
    "                                  (df_simulated['Regression_Type'] == regression) &\n",
    "                                  (df_simulated['Statistic'] == 'Variance')]\n",
    "            if not subset['Value'].empty:\n",
    "                if subset['Value'].values[0]!=0:\n",
    "                    plt.plot(subset['Date'], subset['Value'],  marker='o', markersize=8, label=f'{entity}, {scenario}, {regression}')\n",
    "\n",
    "# Customize the plot\n",
    "plt.title('Variance Over Time by Entity, Scenario_Type, and Regression_Type')\n",
    "plt.xlabel('Date')\n",
    "plt.ylabel('Variance')\n",
    "plt.xticks(rotation=45)\n",
    "plt.legend(bbox_to_anchor=(1.05, 1), loc='upper left', fontsize='small')\n",
    "plt.tight_layout()\n",
    "plt.show()\n"
   ]
  }
 ],
 "metadata": {
  "kernelspec": {
   "display_name": "Python 3 (ipykernel)",
   "language": "python",
   "name": "python3"
  },
  "language_info": {
   "codemirror_mode": {
    "name": "ipython",
    "version": 3
   },
   "file_extension": ".py",
   "mimetype": "text/x-python",
   "name": "python",
   "nbconvert_exporter": "python",
   "pygments_lexer": "ipython3",
   "version": "3.12.3"
  },
  "toc": {
   "base_numbering": 1,
   "nav_menu": {},
   "number_sections": true,
   "sideBar": true,
   "skip_h1_title": false,
   "title_cell": "Table of Contents",
   "title_sidebar": "Contents",
   "toc_cell": false,
   "toc_position": {},
   "toc_section_display": true,
   "toc_window_display": false
  }
 },
 "nbformat": 4,
 "nbformat_minor": 5
}
