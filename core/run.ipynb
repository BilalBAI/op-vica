{
 "cells": [
  {
   "cell_type": "markdown",
   "id": "70db9773",
   "metadata": {},
   "source": [
    "# Voting Influence and Concentration Analysis (VICA)"
   ]
  },
  {
   "cell_type": "markdown",
   "id": "69e0e56a",
   "metadata": {},
   "source": [
    "## Process Data"
   ]
  },
  {
   "cell_type": "code",
   "execution_count": 1,
   "id": "10a6199f",
   "metadata": {},
   "outputs": [],
   "source": [
    "import pandas as pd\n",
    "from data_processor import process_data\n",
    "\n",
    "# # Process from raw data (if raw data has been updated)\n",
    "# df_token_house_top_200, df_citizen_house, df_summary = process_data()\n",
    "# df_token_house_top_200.to_csv('../data/token_house.csv')\n",
    "# df_citizen_house.to_csv('../data/citizen_house.csv')\n",
    "# df_summary.to_csv('../data/summary.csv')\n",
    "\n",
    "# Use processed data from 2024-07-01\n",
    "df_token_house_top_200 = pd.read_csv('../data/token_house.csv')\n",
    "df_citizen_house = pd.read_csv('../data/citizen_house.csv')\n",
    "df_summary = pd.read_csv('../data/summary.csv')"
   ]
  },
  {
   "cell_type": "markdown",
   "id": "144e78d5",
   "metadata": {},
   "source": [
    "## Run VICA"
   ]
  },
  {
   "cell_type": "code",
   "execution_count": null,
   "id": "7e7bd7e9",
   "metadata": {},
   "outputs": [],
   "source": [
    "from vica import *\n",
    "\n",
    "# further process data and convert to R\n",
    "(prop_token_filter, prop_cit_filter,prop_token_filter_add, prop_cit_filter_add) = process_data_and_convert_to_r(df_token_house_top_200, df_citizen_house, df_summary)\n",
    "# run VICA\n",
    "results_dict = run_vica_all(prop_token_filter, prop_cit_filter,prop_token_filter_add, prop_cit_filter_add)\n",
    "# Get states\n",
    "df_stats = run_stats(results_dict)\n"
   ]
  },
  {
   "cell_type": "markdown",
   "id": "a79a1173",
   "metadata": {},
   "source": [
    "## Save Results and Upload to Dune"
   ]
  },
  {
   "cell_type": "code",
   "execution_count": 3,
   "id": "1f54a08b",
   "metadata": {},
   "outputs": [],
   "source": [
    "results_output_file_path = '../results/results.csv'\n",
    "\n",
    "df_stats.to_csv(results_output_file_path,mode='a',header=not pd.io.common.file_exists(results_output_file_path),index=False)\n"
   ]
  },
  {
   "cell_type": "code",
   "execution_count": 4,
   "id": "57ee8877",
   "metadata": {},
   "outputs": [],
   "source": [
    "from dune_uploader import upload_data\n",
    "\n",
    "upload_data(results_output_file_path)"
   ]
  },
  {
   "cell_type": "markdown",
   "id": "a245cc0f",
   "metadata": {},
   "source": [
    "## Explore and Expirement"
   ]
  },
  {
   "cell_type": "code",
   "execution_count": 9,
   "id": "7b3f6ff2",
   "metadata": {},
   "outputs": [
    {
     "data": {
      "text/plain": [
       "dict_keys(['similarity_matrix', 'community_detection', 'louvain_member', 'logistic_regression'])"
      ]
     },
     "execution_count": 9,
     "metadata": {},
     "output_type": "execute_result"
    }
   ],
   "source": [
    "results_dict['token_house'].keys()"
   ]
  },
  {
   "cell_type": "code",
   "execution_count": 8,
   "id": "7475465d",
   "metadata": {},
   "outputs": [
    {
     "data": {
      "text/plain": [
       "np.float64(70.77467641365277)"
      ]
     },
     "execution_count": 8,
     "metadata": {},
     "output_type": "execute_result"
    }
   ],
   "source": [
    "t = results_dict['token_house']['logistic_regression']['factual']['adjusted_logit_effect']\n",
    "t = t[~np.isnan(t)]\n",
    "np.var(t)"
   ]
  },
  {
   "cell_type": "code",
   "execution_count": null,
   "id": "56f7963f",
   "metadata": {},
   "outputs": [],
   "source": [
    "import numpy as np\n",
    "import matplotlib.pyplot as plt\n",
    "num_points=1\n",
    "# Simulate additional data points for various entities, scenario types, and regression types\n",
    "entities = ['token_house', 'citizen_house', 'both_houses']\n",
    "scenario_types = ['factual']\n",
    "regression_types = ['logit_effect', 'adjusted_logit_effect']\n",
    "dates = df_stats.Date.unique()\n",
    "\n",
    "# Convert to a DataFrame\n",
    "df_simulated =  df_stats\n",
    "\n",
    "# Plot the variance over time for each combination of Entity, Scenario_Type, and Regression_Type\n",
    "plt.figure(figsize=(12, 8))\n",
    "\n",
    "# Plotting for each unique combination\n",
    "for entity in entities:\n",
    "    for scenario in scenario_types:\n",
    "        for regression in regression_types:\n",
    "            subset = df_simulated[(df_simulated['Entity'] == entity) &\n",
    "                                  (df_simulated['Scenario_Type'] == scenario) &\n",
    "                                  (df_simulated['Regression_Type'] == regression) &\n",
    "                                  (df_simulated['Statistic'] == 'Variance')]\n",
    "            if not subset['Value'].empty:\n",
    "                if subset['Value'].values[0]!=0:\n",
    "                    plt.plot(subset['Date'], subset['Value'],  marker='o', markersize=8, label=f'{entity}, {scenario}, {regression}')\n",
    "\n",
    "# Customize the plot\n",
    "plt.title('Variance Over Time by Entity, Scenario_Type, and Regression_Type')\n",
    "plt.xlabel('Date')\n",
    "plt.ylabel('Variance')\n",
    "plt.xticks(rotation=45)\n",
    "plt.legend(bbox_to_anchor=(1.05, 1), loc='upper left', fontsize='small')\n",
    "plt.tight_layout()\n",
    "plt.show()\n"
   ]
  }
 ],
 "metadata": {
  "kernelspec": {
   "display_name": "Python 3 (ipykernel)",
   "language": "python",
   "name": "python3"
  },
  "language_info": {
   "codemirror_mode": {
    "name": "ipython",
    "version": 3
   },
   "file_extension": ".py",
   "mimetype": "text/x-python",
   "name": "python",
   "nbconvert_exporter": "python",
   "pygments_lexer": "ipython3",
   "version": "3.12.3"
  },
  "toc": {
   "base_numbering": 1,
   "nav_menu": {},
   "number_sections": true,
   "sideBar": true,
   "skip_h1_title": false,
   "title_cell": "Table of Contents",
   "title_sidebar": "Contents",
   "toc_cell": false,
   "toc_position": {},
   "toc_section_display": true,
   "toc_window_display": false
  }
 },
 "nbformat": 4,
 "nbformat_minor": 5
}
