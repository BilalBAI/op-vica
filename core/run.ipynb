{
 "cells": [
  {
   "cell_type": "markdown",
   "id": "70db9773",
   "metadata": {},
   "source": [
    "# Voting Influence and Concentration Analysis (VICA)"
   ]
  },
  {
   "cell_type": "markdown",
   "id": "69e0e56a",
   "metadata": {},
   "source": [
    "## Process Data"
   ]
  },
  {
   "cell_type": "code",
   "execution_count": 1,
   "id": "10a6199f",
   "metadata": {},
   "outputs": [],
   "source": [
    "import pandas as pd\n",
    "from data_processor import process_data\n",
    "\n",
    "# # Process from raw data (if raw data has been updated)\n",
    "# df_token_house_top_200, df_citizen_house, df_summary = process_data()\n",
    "# df_token_house_top_200.to_csv('../data/token_house.csv')\n",
    "# df_citizen_house.to_csv('../data/citizen_house.csv')\n",
    "# df_summary.to_csv('../data/summary.csv')\n",
    "\n",
    "# Use processed data from 2024-07-01\n",
    "df_token_house_top_200 = pd.read_csv('../data/token_house.csv')\n",
    "df_citizen_house = pd.read_csv('../data/citizen_house.csv')\n",
    "df_summary = pd.read_csv('../data/summary.csv')"
   ]
  },
  {
   "cell_type": "markdown",
   "id": "144e78d5",
   "metadata": {},
   "source": [
    "## Run VICA"
   ]
  },
  {
   "cell_type": "code",
   "execution_count": null,
   "id": "7e7bd7e9",
   "metadata": {},
   "outputs": [],
   "source": [
    "from vica import *\n",
    "\n",
    "# further process data and convert to R\n",
    "(prop_token_filter, prop_cit_filter,prop_token_filter_add, prop_cit_filter_add) = process_data_and_convert_to_r(df_token_house_top_200, df_citizen_house, df_summary)\n",
    "# run VICA\n",
    "results_dict = run_vica_all(prop_token_filter, prop_cit_filter,prop_token_filter_add, prop_cit_filter_add)\n",
    "# Get states\n",
    "df_stats = run_stats(results_dict)\n"
   ]
  },
  {
   "cell_type": "markdown",
   "id": "a79a1173",
   "metadata": {},
   "source": [
    "## Save Results and Upload to Dune"
   ]
  },
  {
   "cell_type": "code",
   "execution_count": 3,
   "id": "1f54a08b",
   "metadata": {},
   "outputs": [],
   "source": [
    "results_output_file_path = '../results/results.csv'\n",
    "\n",
    "df_stats.to_csv(results_output_file_path,mode='a',header=not pd.io.common.file_exists(results_output_file_path),index=False)\n"
   ]
  },
  {
   "cell_type": "code",
   "execution_count": 4,
   "id": "57ee8877",
   "metadata": {},
   "outputs": [],
   "source": [
    "from dune_uploader import upload_data\n",
    "\n",
    "upload_data(results_output_file_path)"
   ]
  },
  {
   "cell_type": "markdown",
   "id": "a245cc0f",
   "metadata": {},
   "source": [
    "## Explore and Expirement"
   ]
  },
  {
   "cell_type": "code",
   "execution_count": 2,
   "id": "0fa1b4ce",
   "metadata": {
    "ExecuteTime": {
     "end_time": "2024-10-12T12:09:58.915340Z",
     "start_time": "2024-10-12T12:07:59.249587Z"
    }
   },
   "outputs": [],
   "source": [
    "# 计算相似性矩阵\n",
    "\n",
    "import random\n",
    "import numpy as np\n",
    "M_token_tranc_t=Similar_matriix(prop_token_filter_add_t,3)\n",
    "M_cit_tranc_t=Similar_matriix(prop_cit_filter_add_t,3)\n",
    "# # Save the array\n",
    "# np.save('M_token_tranc_t.npy', M_token_tranc_t)\n",
    "# np.save('M_cit_tranc_t.npy', M_cit_tranc_t)\n",
    "\n",
    "# # Load the array back into memory\n",
    "# M_token_tranc_t = np.load('M_token_tranc_t.npy')\n",
    "# M_cit_tranc_t = np.load('M_cit_tranc_t.npy')\n",
    "\n"
   ]
  },
  {
   "cell_type": "code",
   "execution_count": null,
   "id": "4208442e",
   "metadata": {
    "ExecuteTime": {
     "end_time": "2024-10-12T12:32:34.226718Z",
     "start_time": "2024-10-12T12:32:24.735682Z"
    }
   },
   "outputs": [],
   "source": [
    "# 进行网络聚类\n",
    "random.seed(1)\n",
    "community_token_t = Community_detection(M_token_tranc_t,0.1,3)\n",
    "community_cit_t = Community_detection(M_cit_tranc_t,0.1,3)\n",
    "\n"
   ]
  },
  {
   "cell_type": "code",
   "execution_count": 5,
   "id": "ecbd9a2b",
   "metadata": {
    "ExecuteTime": {
     "end_time": "2024-10-12T12:35:30.650814Z",
     "start_time": "2024-10-12T12:35:30.613269Z"
    },
    "scrolled": false
   },
   "outputs": [
    {
     "name": "stdout",
     "output_type": "stream",
     "text": [
      "$community\n",
      "IGRAPH clustering multi level, groups: 1, mod: 0.11\n",
      "+ groups:\n",
      "  $`1`\n",
      "   [1]  1  2  3  4  5  6  7  8  9 10 11 12 13 14 15 16 17 18 19 20 21 22 23 24\n",
      "  [25] 25 26 27 28 29 30 31 32 33 34 35 36 37 38 39 40 41 42 43 44\n",
      "  \n",
      "\n",
      "$membership\n",
      " [1] 1 1 1 1 1 1 1 1 1 1 1 1 1 1 1 1 1 1 1 1 1 1 1 1 1 1 1 1 1 1 1 1 1 1 1 1 1 1\n",
      "[39] 1 1 1 1 1 1\n",
      "\n",
      "\n"
     ]
    }
   ],
   "source": [
    "print(community_cit_t)"
   ]
  },
  {
   "cell_type": "code",
   "execution_count": null,
   "id": "a31aa5f8",
   "metadata": {
    "ExecuteTime": {
     "end_time": "2024-10-12T12:35:23.496392Z",
     "start_time": "2024-10-12T12:35:23.470564Z"
    }
   },
   "outputs": [],
   "source": [
    "\n",
    "community_token_t[1]\n",
    "#对应membership，即分组的信息\n"
   ]
  },
  {
   "cell_type": "code",
   "execution_count": null,
   "id": "c8b5f6c2",
   "metadata": {
    "ExecuteTime": {
     "end_time": "2024-10-12T12:36:29.820666Z",
     "start_time": "2024-10-12T12:36:29.804054Z"
    }
   },
   "outputs": [],
   "source": [
    "prop_token_filter_add_t[2] #对应unique(address)即token house中的address"
   ]
  },
  {
   "cell_type": "code",
   "execution_count": 8,
   "id": "ddaee185",
   "metadata": {
    "ExecuteTime": {
     "end_time": "2024-10-12T12:37:25.034114Z",
     "start_time": "2024-10-12T12:37:25.008385Z"
    }
   },
   "outputs": [],
   "source": [
    "# 把分组信息赋予Louvain_member \n",
    "Louvain_member_token_t = community_token_t[1]\n",
    "\n",
    "Louvain_member_cit_t = community_cit_t[1]\n",
    "\n",
    "#Group_token_t =data.frame(address = unique(prop_token_filter_add_t[2]),group = Louvain_member_token_t)"
   ]
  },
  {
   "cell_type": "code",
   "execution_count": 9,
   "id": "65683c0c",
   "metadata": {
    "ExecuteTime": {
     "end_time": "2024-10-12T12:40:29.649682Z",
     "start_time": "2024-10-12T12:40:28.349834Z"
    }
   },
   "outputs": [],
   "source": [
    "#逻辑回归\n",
    "import matplotlib.pyplot as plt\n",
    "log_eff_token_t=Logistic_reg_single(prop_token_filter_add_t,Louvain_member_token_t,False)\n",
    "ad_log_eff_token_t=Logistic_reg_single(prop_token_filter_add_t,Louvain_member_token_t,True)\n",
    "\n",
    "\n",
    "log_eff_cit_t=Logistic_reg_single(prop_cit_filter_add_t,Louvain_member_cit_t,False)\n",
    "ad_log_eff_cit_t=Logistic_reg_single(prop_cit_filter_add_t,Louvain_member_cit_t,True)\n"
   ]
  },
  {
   "cell_type": "code",
   "execution_count": 10,
   "id": "de7cb697",
   "metadata": {
    "ExecuteTime": {
     "end_time": "2024-10-12T12:47:01.329125Z",
     "start_time": "2024-10-12T12:47:01.320341Z"
    }
   },
   "outputs": [
    {
     "data": {
      "text/plain": [
       "np.float64(70.77467641365277)"
      ]
     },
     "execution_count": 10,
     "metadata": {},
     "output_type": "execute_result"
    }
   ],
   "source": [
    "import pandas as pd\n",
    "import numpy as np\n",
    "ad_log_eff_token_t = ad_log_eff_token_t[~np.isnan(ad_log_eff_token_t)]\n",
    "np.var(ad_log_eff_token_t)\n",
    "\n"
   ]
  },
  {
   "cell_type": "code",
   "execution_count": 99,
   "id": "07552eae",
   "metadata": {
    "ExecuteTime": {
     "end_time": "2024-10-12T13:51:24.493342Z",
     "start_time": "2024-10-12T13:51:24.465707Z"
    }
   },
   "outputs": [],
   "source": [
    "#print(ad_log_eff_token_t)"
   ]
  },
  {
   "cell_type": "code",
   "execution_count": null,
   "id": "9c7903e1",
   "metadata": {},
   "outputs": [],
   "source": [
    "log_eff_cit_t"
   ]
  },
  {
   "cell_type": "code",
   "execution_count": 12,
   "id": "c5f69ac5",
   "metadata": {
    "ExecuteTime": {
     "end_time": "2024-10-12T12:47:20.343973Z",
     "start_time": "2024-10-12T12:47:20.329432Z"
    }
   },
   "outputs": [
    {
     "data": {
      "text/plain": [
       "np.float64(176.12395262839127)"
      ]
     },
     "execution_count": 12,
     "metadata": {},
     "output_type": "execute_result"
    }
   ],
   "source": [
    "log_eff_cit_t = log_eff_cit_t[~np.isnan(log_eff_cit_t)]\n",
    "np.var(log_eff_cit_t)"
   ]
  },
  {
   "cell_type": "code",
   "execution_count": 13,
   "id": "0377b799",
   "metadata": {
    "ExecuteTime": {
     "end_time": "2024-10-12T12:50:40.731723Z",
     "start_time": "2024-10-12T12:50:40.480519Z"
    }
   },
   "outputs": [],
   "source": [
    "log_eff_both_t=Logistic_reg_multiple(prop_cit_filter_add_t,prop_token_filter_add_t)"
   ]
  },
  {
   "cell_type": "code",
   "execution_count": 14,
   "id": "636cf64a",
   "metadata": {
    "ExecuteTime": {
     "end_time": "2024-10-12T12:50:54.347688Z",
     "start_time": "2024-10-12T12:50:54.326637Z"
    }
   },
   "outputs": [
    {
     "data": {
      "text/plain": [
       "np.float64(410.59026003486366)"
      ]
     },
     "execution_count": 14,
     "metadata": {},
     "output_type": "execute_result"
    }
   ],
   "source": [
    "log_eff_both_t = log_eff_both_t[~np.isnan(log_eff_both_t)]\n",
    "np.var(log_eff_both_t)"
   ]
  },
  {
   "cell_type": "code",
   "execution_count": 15,
   "id": "5ea0f401",
   "metadata": {
    "ExecuteTime": {
     "end_time": "2024-10-12T12:51:47.227640Z",
     "start_time": "2024-10-12T12:51:39.280528Z"
    }
   },
   "outputs": [],
   "source": [
    "#反事实逻辑回归\n",
    "log_eff_token_rev_t = CT_Logistic_reg_single(prop_token_filter_t,Louvain_member_token_t,False)\n",
    "\n",
    "ad_log_eff_token_rev_t = CT_Logistic_reg_single(prop_token_filter_t,Louvain_member_token_t,True)\n"
   ]
  },
  {
   "cell_type": "code",
   "execution_count": 23,
   "id": "e282283b",
   "metadata": {
    "ExecuteTime": {
     "end_time": "2024-10-12T12:51:54.549791Z",
     "start_time": "2024-10-12T12:51:54.530811Z"
    }
   },
   "outputs": [
    {
     "data": {
      "text/plain": [
       "np.float64(671.0077449935421)"
      ]
     },
     "execution_count": 23,
     "metadata": {},
     "output_type": "execute_result"
    }
   ],
   "source": [
    "log_eff_token_rev_t = log_eff_token_rev_t[~np.isnan(log_eff_token_rev_t)]\n",
    "np.var(log_eff_token_rev_t)"
   ]
  },
  {
   "cell_type": "code",
   "execution_count": 16,
   "id": "e0b24d7e",
   "metadata": {
    "ExecuteTime": {
     "end_time": "2024-10-12T12:52:33.164102Z",
     "start_time": "2024-10-12T12:52:33.146508Z"
    }
   },
   "outputs": [
    {
     "data": {
      "text/plain": [
       "np.float64(67.80281136127964)"
      ]
     },
     "execution_count": 16,
     "metadata": {},
     "output_type": "execute_result"
    }
   ],
   "source": [
    "ad_log_eff_token_rev_t = ad_log_eff_token_rev_t[~np.isnan(ad_log_eff_token_rev_t)]\n",
    "np.var(ad_log_eff_token_rev_t)"
   ]
  },
  {
   "cell_type": "code",
   "execution_count": 17,
   "id": "a2bc99eb",
   "metadata": {
    "ExecuteTime": {
     "end_time": "2024-10-12T13:57:11.084656Z",
     "start_time": "2024-10-12T13:57:10.763201Z"
    }
   },
   "outputs": [],
   "source": [
    "log_eff_cit_rev_t = CT_Logistic_reg_single(prop_cit_filter_t,Louvain_member_cit_t,False)\n",
    "\n",
    "ad_log_eff_cit_rev_t = CT_Logistic_reg_single(prop_cit_filter_t,Louvain_member_cit_t,True)\n"
   ]
  },
  {
   "cell_type": "code",
   "execution_count": 18,
   "id": "627f8c8f",
   "metadata": {
    "ExecuteTime": {
     "end_time": "2024-10-12T13:02:39.466212Z",
     "start_time": "2024-10-12T13:02:38.966563Z"
    }
   },
   "outputs": [],
   "source": [
    "log_eff_both_rev_t = CT_Logistic_reg_multiple(prop_token_filter_t,prop_cit_filter_t)"
   ]
  }
 ],
 "metadata": {
  "kernelspec": {
   "display_name": "Python 3 (ipykernel)",
   "language": "python",
   "name": "python3"
  },
  "language_info": {
   "codemirror_mode": {
    "name": "ipython",
    "version": 3
   },
   "file_extension": ".py",
   "mimetype": "text/x-python",
   "name": "python",
   "nbconvert_exporter": "python",
   "pygments_lexer": "ipython3",
   "version": "3.12.3"
  },
  "toc": {
   "base_numbering": 1,
   "nav_menu": {},
   "number_sections": true,
   "sideBar": true,
   "skip_h1_title": false,
   "title_cell": "Table of Contents",
   "title_sidebar": "Contents",
   "toc_cell": false,
   "toc_position": {},
   "toc_section_display": true,
   "toc_window_display": false
  }
 },
 "nbformat": 4,
 "nbformat_minor": 5
}
