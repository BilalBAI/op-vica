{
 "cells": [
  {
   "cell_type": "markdown",
   "id": "70db9773",
   "metadata": {},
   "source": [
    "# Voting Influence and Concentration Analysis (VICA)"
   ]
  },
  {
   "cell_type": "markdown",
   "id": "69e0e56a",
   "metadata": {},
   "source": [
    "## Process Data"
   ]
  },
  {
   "cell_type": "code",
   "execution_count": 1,
   "id": "10a6199f",
   "metadata": {},
   "outputs": [],
   "source": [
    "import pandas as pd\n",
    "from data_processor import process_data\n",
    "\n",
    "# # Process from raw data (if raw data has been updated)\n",
    "# df_token_house_top_200, df_citizen_house, df_summary = process_data()\n",
    "# df_token_house_top_200.to_csv('../data/token_house.csv')\n",
    "# df_citizen_house.to_csv('../data/citizen_house.csv')\n",
    "# df_summary.to_csv('../data/summary.csv')\n",
    "\n",
    "# Use processed data from 2024-07-01\n",
    "df_token_house_top_200 = pd.read_csv('../data/token_house.csv')\n",
    "df_citizen_house = pd.read_csv('../data/citizen_house.csv')\n",
    "df_summary = pd.read_csv('../data/summary.csv')"
   ]
  },
  {
   "cell_type": "markdown",
   "id": "144e78d5",
   "metadata": {},
   "source": [
    "## Run VICA"
   ]
  },
  {
   "cell_type": "code",
   "execution_count": null,
   "id": "7e7bd7e9",
   "metadata": {},
   "outputs": [],
   "source": [
    "from vica import *\n",
    "\n",
    "# further process data and convert to R\n",
    "(prop_token_filter, prop_cit_filter,prop_token_filter_add, prop_cit_filter_add) = process_data_and_convert_to_r(df_token_house_top_200, df_citizen_house, df_summary)\n",
    "# run VICA\n",
    "results_dict = run_vica_all(prop_token_filter, prop_cit_filter,prop_token_filter_add, prop_cit_filter_add)\n",
    "# Get states\n",
    "df_stats = run_stats(results_dict)\n"
   ]
  },
  {
   "cell_type": "markdown",
   "id": "a79a1173",
   "metadata": {},
   "source": [
    "## Save Results and Upload to Dune"
   ]
  },
  {
   "cell_type": "code",
   "execution_count": 6,
   "id": "1f54a08b",
   "metadata": {},
   "outputs": [],
   "source": [
    "results_output_file_path = '../results/results.csv'\n",
    "\n",
    "df_stats.to_csv(results_output_file_path,mode='a',header=not pd.io.common.file_exists(results_output_file_path),index=False)\n"
   ]
  },
  {
   "cell_type": "code",
   "execution_count": 28,
   "id": "57ee8877",
   "metadata": {},
   "outputs": [],
   "source": [
    "from dune_uploader import upload_data\n",
    "\n",
    "upload_data(results_output_file_path)"
   ]
  },
  {
   "cell_type": "markdown",
   "id": "a245cc0f",
   "metadata": {},
   "source": [
    "## Explore and Expirement"
   ]
  },
  {
   "cell_type": "code",
   "execution_count": 7,
   "id": "6f84a55e",
   "metadata": {},
   "outputs": [
    {
     "data": {
      "text/html": [
       "<div>\n",
       "<style scoped>\n",
       "    .dataframe tbody tr th:only-of-type {\n",
       "        vertical-align: middle;\n",
       "    }\n",
       "\n",
       "    .dataframe tbody tr th {\n",
       "        vertical-align: top;\n",
       "    }\n",
       "\n",
       "    .dataframe thead th {\n",
       "        text-align: right;\n",
       "    }\n",
       "</style>\n",
       "<table border=\"1\" class=\"dataframe\">\n",
       "  <thead>\n",
       "    <tr style=\"text-align: right;\">\n",
       "      <th></th>\n",
       "      <th>Statistic</th>\n",
       "      <th>Value</th>\n",
       "      <th>Entity</th>\n",
       "      <th>Scenario_Type</th>\n",
       "      <th>Regression_Type</th>\n",
       "      <th>Date</th>\n",
       "    </tr>\n",
       "  </thead>\n",
       "  <tbody>\n",
       "    <tr>\n",
       "      <th>1</th>\n",
       "      <td>Variance</td>\n",
       "      <td>666.156773</td>\n",
       "      <td>token_house</td>\n",
       "      <td>factual</td>\n",
       "      <td>logit_effect</td>\n",
       "      <td>2024-07-01</td>\n",
       "    </tr>\n",
       "    <tr>\n",
       "      <th>2</th>\n",
       "      <td>Skewness</td>\n",
       "      <td>-0.199813</td>\n",
       "      <td>token_house</td>\n",
       "      <td>factual</td>\n",
       "      <td>logit_effect</td>\n",
       "      <td>2024-07-01</td>\n",
       "    </tr>\n",
       "    <tr>\n",
       "      <th>3</th>\n",
       "      <td>Kurtosis</td>\n",
       "      <td>1.544448</td>\n",
       "      <td>token_house</td>\n",
       "      <td>factual</td>\n",
       "      <td>logit_effect</td>\n",
       "      <td>2024-07-01</td>\n",
       "    </tr>\n",
       "    <tr>\n",
       "      <th>4</th>\n",
       "      <td>Gini Coefficient</td>\n",
       "      <td>0.635614</td>\n",
       "      <td>token_house</td>\n",
       "      <td>factual</td>\n",
       "      <td>logit_effect</td>\n",
       "      <td>2024-07-01</td>\n",
       "    </tr>\n",
       "    <tr>\n",
       "      <th>5</th>\n",
       "      <td>Herfindahl-Hirschman Index</td>\n",
       "      <td>0.007305</td>\n",
       "      <td>token_house</td>\n",
       "      <td>factual</td>\n",
       "      <td>logit_effect</td>\n",
       "      <td>2024-07-01</td>\n",
       "    </tr>\n",
       "    <tr>\n",
       "      <th>...</th>\n",
       "      <td>...</td>\n",
       "      <td>...</td>\n",
       "      <td>...</td>\n",
       "      <td>...</td>\n",
       "      <td>...</td>\n",
       "      <td>...</td>\n",
       "    </tr>\n",
       "    <tr>\n",
       "      <th>3</th>\n",
       "      <td>Kurtosis</td>\n",
       "      <td>1.504528</td>\n",
       "      <td>both_houses</td>\n",
       "      <td>counterfactual</td>\n",
       "      <td>logit_effect</td>\n",
       "      <td>2024-07-01</td>\n",
       "    </tr>\n",
       "    <tr>\n",
       "      <th>4</th>\n",
       "      <td>Gini Coefficient</td>\n",
       "      <td>-0.436947</td>\n",
       "      <td>both_houses</td>\n",
       "      <td>counterfactual</td>\n",
       "      <td>logit_effect</td>\n",
       "      <td>2024-07-01</td>\n",
       "    </tr>\n",
       "    <tr>\n",
       "      <th>5</th>\n",
       "      <td>Herfindahl-Hirschman Index</td>\n",
       "      <td>0.066667</td>\n",
       "      <td>both_houses</td>\n",
       "      <td>counterfactual</td>\n",
       "      <td>logit_effect</td>\n",
       "      <td>2024-07-01</td>\n",
       "    </tr>\n",
       "    <tr>\n",
       "      <th>6</th>\n",
       "      <td>Entropy</td>\n",
       "      <td>-0.000000</td>\n",
       "      <td>both_houses</td>\n",
       "      <td>counterfactual</td>\n",
       "      <td>logit_effect</td>\n",
       "      <td>2024-07-01</td>\n",
       "    </tr>\n",
       "    <tr>\n",
       "      <th>7</th>\n",
       "      <td>CV</td>\n",
       "      <td>-0.826226</td>\n",
       "      <td>both_houses</td>\n",
       "      <td>counterfactual</td>\n",
       "      <td>logit_effect</td>\n",
       "      <td>2024-07-01</td>\n",
       "    </tr>\n",
       "  </tbody>\n",
       "</table>\n",
       "<p>70 rows × 6 columns</p>\n",
       "</div>"
      ],
      "text/plain": [
       "                     Statistic       Value       Entity   Scenario_Type  \\\n",
       "1                     Variance  666.156773  token_house         factual   \n",
       "2                     Skewness   -0.199813  token_house         factual   \n",
       "3                     Kurtosis    1.544448  token_house         factual   \n",
       "4             Gini Coefficient    0.635614  token_house         factual   \n",
       "5   Herfindahl-Hirschman Index    0.007305  token_house         factual   \n",
       "..                         ...         ...          ...             ...   \n",
       "3                     Kurtosis    1.504528  both_houses  counterfactual   \n",
       "4             Gini Coefficient   -0.436947  both_houses  counterfactual   \n",
       "5   Herfindahl-Hirschman Index    0.066667  both_houses  counterfactual   \n",
       "6                      Entropy   -0.000000  both_houses  counterfactual   \n",
       "7                           CV   -0.826226  both_houses  counterfactual   \n",
       "\n",
       "   Regression_Type        Date  \n",
       "1     logit_effect  2024-07-01  \n",
       "2     logit_effect  2024-07-01  \n",
       "3     logit_effect  2024-07-01  \n",
       "4     logit_effect  2024-07-01  \n",
       "5     logit_effect  2024-07-01  \n",
       "..             ...         ...  \n",
       "3     logit_effect  2024-07-01  \n",
       "4     logit_effect  2024-07-01  \n",
       "5     logit_effect  2024-07-01  \n",
       "6     logit_effect  2024-07-01  \n",
       "7     logit_effect  2024-07-01  \n",
       "\n",
       "[70 rows x 6 columns]"
      ]
     },
     "execution_count": 7,
     "metadata": {},
     "output_type": "execute_result"
    }
   ],
   "source": [
    "df_stats"
   ]
  },
  {
   "cell_type": "code",
   "execution_count": 19,
   "id": "b77827ff",
   "metadata": {},
   "outputs": [
    {
     "data": {
      "text/plain": [
       "array(['logit_effect', 'adjusted_logit_effect'], dtype=object)"
      ]
     },
     "execution_count": 19,
     "metadata": {},
     "output_type": "execute_result"
    }
   ],
   "source": [
    "regression_types"
   ]
  },
  {
   "cell_type": "code",
   "execution_count": 27,
   "id": "56f7963f",
   "metadata": {},
   "outputs": [
    {
     "data": {
      "image/png": "[encoded data removed]",
      "text/plain": [
       "<Figure size 1200x800 with 1 Axes>"
      ]
     },
     "metadata": {},
     "output_type": "display_data"
    }
   ],
   "source": [
    "import numpy as np\n",
    "import matplotlib.pyplot as plt\n",
    "num_points=1\n",
    "# Simulate additional data points for various entities, scenario types, and regression types\n",
    "entities = ['token_house', 'citizen_house', 'both_houses']\n",
    "scenario_types = ['factual']\n",
    "regression_types = ['logit_effect', 'adjusted_logit_effect']\n",
    "dates = df_stats.Date.unique()\n",
    "\n",
    "# Convert to a DataFrame\n",
    "df_simulated =  df_stats\n",
    "\n",
    "# Plot the variance over time for each combination of Entity, Scenario_Type, and Regression_Type\n",
    "plt.figure(figsize=(12, 8))\n",
    "\n",
    "# Plotting for each unique combination\n",
    "for entity in entities:\n",
    "    for scenario in scenario_types:\n",
    "        for regression in regression_types:\n",
    "            subset = df_simulated[(df_simulated['Entity'] == entity) &\n",
    "                                  (df_simulated['Scenario_Type'] == scenario) &\n",
    "                                  (df_simulated['Regression_Type'] == regression) &\n",
    "                                  (df_simulated['Statistic'] == 'Variance')]\n",
    "            if not subset['Value'].empty:\n",
    "                if subset['Value'].values[0]!=0:\n",
    "                    plt.plot(subset['Date'], subset['Value'],  marker='o', markersize=8, label=f'{entity}, {scenario}, {regression}')\n",
    "\n",
    "# Customize the plot\n",
    "plt.title('Variance Over Time by Entity, Scenario_Type, and Regression_Type')\n",
    "plt.xlabel('Date')\n",
    "plt.ylabel('Variance')\n",
    "plt.xticks(rotation=45)\n",
    "plt.legend(bbox_to_anchor=(1.05, 1), loc='upper left', fontsize='small')\n",
    "plt.tight_layout()\n",
    "plt.show()\n"
   ]
  },
  {
   "cell_type": "code",
   "execution_count": 2,
   "id": "0fa1b4ce",
   "metadata": {
    "ExecuteTime": {
     "end_time": "2024-10-12T12:09:58.915340Z",
     "start_time": "2024-10-12T12:07:59.249587Z"
    }
   },
   "outputs": [],
   "source": [
    "# 计算相似性矩阵\n",
    "\n",
    "import random\n",
    "import numpy as np\n",
    "M_token_tranc_t=Similar_matriix(prop_token_filter_add_t,3)\n",
    "M_cit_tranc_t=Similar_matriix(prop_cit_filter_add_t,3)\n",
    "# # Save the array\n",
    "# np.save('M_token_tranc_t.npy', M_token_tranc_t)\n",
    "# np.save('M_cit_tranc_t.npy', M_cit_tranc_t)\n",
    "\n",
    "# # Load the array back into memory\n",
    "# M_token_tranc_t = np.load('M_token_tranc_t.npy')\n",
    "# M_cit_tranc_t = np.load('M_cit_tranc_t.npy')\n",
    "\n"
   ]
  },
  {
   "cell_type": "code",
   "execution_count": null,
   "id": "4208442e",
   "metadata": {
    "ExecuteTime": {
     "end_time": "2024-10-12T12:32:34.226718Z",
     "start_time": "2024-10-12T12:32:24.735682Z"
    }
   },
   "outputs": [],
   "source": [
    "# 进行网络聚类\n",
    "random.seed(1)\n",
    "community_token_t = Community_detection(M_token_tranc_t,0.1,3)\n",
    "community_cit_t = Community_detection(M_cit_tranc_t,0.1,3)\n",
    "\n"
   ]
  },
  {
   "cell_type": "code",
   "execution_count": 5,
   "id": "ecbd9a2b",
   "metadata": {
    "ExecuteTime": {
     "end_time": "2024-10-12T12:35:30.650814Z",
     "start_time": "2024-10-12T12:35:30.613269Z"
    },
    "scrolled": false
   },
   "outputs": [
    {
     "name": "stdout",
     "output_type": "stream",
     "text": [
      "$community\n",
      "IGRAPH clustering multi level, groups: 1, mod: 0.11\n",
      "+ groups:\n",
      "  $`1`\n",
      "   [1]  1  2  3  4  5  6  7  8  9 10 11 12 13 14 15 16 17 18 19 20 21 22 23 24\n",
      "  [25] 25 26 27 28 29 30 31 32 33 34 35 36 37 38 39 40 41 42 43 44\n",
      "  \n",
      "\n",
      "$membership\n",
      " [1] 1 1 1 1 1 1 1 1 1 1 1 1 1 1 1 1 1 1 1 1 1 1 1 1 1 1 1 1 1 1 1 1 1 1 1 1 1 1\n",
      "[39] 1 1 1 1 1 1\n",
      "\n",
      "\n"
     ]
    }
   ],
   "source": [
    "print(community_cit_t)"
   ]
  },
  {
   "cell_type": "code",
   "execution_count": null,
   "id": "a31aa5f8",
   "metadata": {
    "ExecuteTime": {
     "end_time": "2024-10-12T12:35:23.496392Z",
     "start_time": "2024-10-12T12:35:23.470564Z"
    }
   },
   "outputs": [],
   "source": [
    "\n",
    "community_token_t[1]\n",
    "#对应membership，即分组的信息\n"
   ]
  },
  {
   "cell_type": "code",
   "execution_count": null,
   "id": "c8b5f6c2",
   "metadata": {
    "ExecuteTime": {
     "end_time": "2024-10-12T12:36:29.820666Z",
     "start_time": "2024-10-12T12:36:29.804054Z"
    }
   },
   "outputs": [],
   "source": [
    "prop_token_filter_add_t[2] #对应unique(address)即token house中的address"
   ]
  },
  {
   "cell_type": "code",
   "execution_count": 8,
   "id": "ddaee185",
   "metadata": {
    "ExecuteTime": {
     "end_time": "2024-10-12T12:37:25.034114Z",
     "start_time": "2024-10-12T12:37:25.008385Z"
    }
   },
   "outputs": [],
   "source": [
    "# 把分组信息赋予Louvain_member \n",
    "Louvain_member_token_t = community_token_t[1]\n",
    "\n",
    "Louvain_member_cit_t = community_cit_t[1]\n",
    "\n",
    "#Group_token_t =data.frame(address = unique(prop_token_filter_add_t[2]),group = Louvain_member_token_t)"
   ]
  },
  {
   "cell_type": "code",
   "execution_count": 9,
   "id": "65683c0c",
   "metadata": {
    "ExecuteTime": {
     "end_time": "2024-10-12T12:40:29.649682Z",
     "start_time": "2024-10-12T12:40:28.349834Z"
    }
   },
   "outputs": [],
   "source": [
    "#逻辑回归\n",
    "import matplotlib.pyplot as plt\n",
    "log_eff_token_t=Logistic_reg_single(prop_token_filter_add_t,Louvain_member_token_t,False)\n",
    "ad_log_eff_token_t=Logistic_reg_single(prop_token_filter_add_t,Louvain_member_token_t,True)\n",
    "\n",
    "\n",
    "log_eff_cit_t=Logistic_reg_single(prop_cit_filter_add_t,Louvain_member_cit_t,False)\n",
    "ad_log_eff_cit_t=Logistic_reg_single(prop_cit_filter_add_t,Louvain_member_cit_t,True)\n"
   ]
  },
  {
   "cell_type": "code",
   "execution_count": 10,
   "id": "de7cb697",
   "metadata": {
    "ExecuteTime": {
     "end_time": "2024-10-12T12:47:01.329125Z",
     "start_time": "2024-10-12T12:47:01.320341Z"
    }
   },
   "outputs": [
    {
     "data": {
      "text/plain": [
       "np.float64(70.77467641365277)"
      ]
     },
     "execution_count": 10,
     "metadata": {},
     "output_type": "execute_result"
    }
   ],
   "source": [
    "import pandas as pd\n",
    "import numpy as np\n",
    "ad_log_eff_token_t = ad_log_eff_token_t[~np.isnan(ad_log_eff_token_t)]\n",
    "np.var(ad_log_eff_token_t)\n",
    "\n"
   ]
  },
  {
   "cell_type": "code",
   "execution_count": 99,
   "id": "07552eae",
   "metadata": {
    "ExecuteTime": {
     "end_time": "2024-10-12T13:51:24.493342Z",
     "start_time": "2024-10-12T13:51:24.465707Z"
    }
   },
   "outputs": [],
   "source": [
    "#print(ad_log_eff_token_t)"
   ]
  },
  {
   "cell_type": "code",
   "execution_count": null,
   "id": "9c7903e1",
   "metadata": {},
   "outputs": [],
   "source": [
    "log_eff_cit_t"
   ]
  },
  {
   "cell_type": "code",
   "execution_count": 12,
   "id": "c5f69ac5",
   "metadata": {
    "ExecuteTime": {
     "end_time": "2024-10-12T12:47:20.343973Z",
     "start_time": "2024-10-12T12:47:20.329432Z"
    }
   },
   "outputs": [
    {
     "data": {
      "text/plain": [
       "np.float64(176.12395262839127)"
      ]
     },
     "execution_count": 12,
     "metadata": {},
     "output_type": "execute_result"
    }
   ],
   "source": [
    "log_eff_cit_t = log_eff_cit_t[~np.isnan(log_eff_cit_t)]\n",
    "np.var(log_eff_cit_t)"
   ]
  },
  {
   "cell_type": "code",
   "execution_count": 13,
   "id": "0377b799",
   "metadata": {
    "ExecuteTime": {
     "end_time": "2024-10-12T12:50:40.731723Z",
     "start_time": "2024-10-12T12:50:40.480519Z"
    }
   },
   "outputs": [],
   "source": [
    "log_eff_both_t=Logistic_reg_multiple(prop_cit_filter_add_t,prop_token_filter_add_t)"
   ]
  },
  {
   "cell_type": "code",
   "execution_count": 14,
   "id": "636cf64a",
   "metadata": {
    "ExecuteTime": {
     "end_time": "2024-10-12T12:50:54.347688Z",
     "start_time": "2024-10-12T12:50:54.326637Z"
    }
   },
   "outputs": [
    {
     "data": {
      "text/plain": [
       "np.float64(410.59026003486366)"
      ]
     },
     "execution_count": 14,
     "metadata": {},
     "output_type": "execute_result"
    }
   ],
   "source": [
    "log_eff_both_t = log_eff_both_t[~np.isnan(log_eff_both_t)]\n",
    "np.var(log_eff_both_t)"
   ]
  },
  {
   "cell_type": "code",
   "execution_count": 15,
   "id": "5ea0f401",
   "metadata": {
    "ExecuteTime": {
     "end_time": "2024-10-12T12:51:47.227640Z",
     "start_time": "2024-10-12T12:51:39.280528Z"
    }
   },
   "outputs": [],
   "source": [
    "#反事实逻辑回归\n",
    "log_eff_token_rev_t = CT_Logistic_reg_single(prop_token_filter_t,Louvain_member_token_t,False)\n",
    "\n",
    "ad_log_eff_token_rev_t = CT_Logistic_reg_single(prop_token_filter_t,Louvain_member_token_t,True)\n"
   ]
  },
  {
   "cell_type": "code",
   "execution_count": 23,
   "id": "e282283b",
   "metadata": {
    "ExecuteTime": {
     "end_time": "2024-10-12T12:51:54.549791Z",
     "start_time": "2024-10-12T12:51:54.530811Z"
    }
   },
   "outputs": [
    {
     "data": {
      "text/plain": [
       "np.float64(671.0077449935421)"
      ]
     },
     "execution_count": 23,
     "metadata": {},
     "output_type": "execute_result"
    }
   ],
   "source": [
    "log_eff_token_rev_t = log_eff_token_rev_t[~np.isnan(log_eff_token_rev_t)]\n",
    "np.var(log_eff_token_rev_t)"
   ]
  },
  {
   "cell_type": "code",
   "execution_count": 16,
   "id": "e0b24d7e",
   "metadata": {
    "ExecuteTime": {
     "end_time": "2024-10-12T12:52:33.164102Z",
     "start_time": "2024-10-12T12:52:33.146508Z"
    }
   },
   "outputs": [
    {
     "data": {
      "text/plain": [
       "np.float64(67.80281136127964)"
      ]
     },
     "execution_count": 16,
     "metadata": {},
     "output_type": "execute_result"
    }
   ],
   "source": [
    "ad_log_eff_token_rev_t = ad_log_eff_token_rev_t[~np.isnan(ad_log_eff_token_rev_t)]\n",
    "np.var(ad_log_eff_token_rev_t)"
   ]
  },
  {
   "cell_type": "code",
   "execution_count": 17,
   "id": "a2bc99eb",
   "metadata": {
    "ExecuteTime": {
     "end_time": "2024-10-12T13:57:11.084656Z",
     "start_time": "2024-10-12T13:57:10.763201Z"
    }
   },
   "outputs": [],
   "source": [
    "log_eff_cit_rev_t = CT_Logistic_reg_single(prop_cit_filter_t,Louvain_member_cit_t,False)\n",
    "\n",
    "ad_log_eff_cit_rev_t = CT_Logistic_reg_single(prop_cit_filter_t,Louvain_member_cit_t,True)\n"
   ]
  },
  {
   "cell_type": "code",
   "execution_count": 18,
   "id": "627f8c8f",
   "metadata": {
    "ExecuteTime": {
     "end_time": "2024-10-12T13:02:39.466212Z",
     "start_time": "2024-10-12T13:02:38.966563Z"
    }
   },
   "outputs": [],
   "source": [
    "log_eff_both_rev_t = CT_Logistic_reg_multiple(prop_token_filter_t,prop_cit_filter_t)"
   ]
  }
 ],
 "metadata": {
  "kernelspec": {
   "display_name": "Python 3 (ipykernel)",
   "language": "python",
   "name": "python3"
  },
  "language_info": {
   "codemirror_mode": {
    "name": "ipython",
    "version": 3
   },
   "file_extension": ".py",
   "mimetype": "text/x-python",
   "name": "python",
   "nbconvert_exporter": "python",
   "pygments_lexer": "ipython3",
   "version": "3.12.3"
  },
  "toc": {
   "base_numbering": 1,
   "nav_menu": {},
   "number_sections": true,
   "sideBar": true,
   "skip_h1_title": false,
   "title_cell": "Table of Contents",
   "title_sidebar": "Contents",
   "toc_cell": false,
   "toc_position": {},
   "toc_section_display": true,
   "toc_window_display": false
  }
 },
 "nbformat": 4,
 "nbformat_minor": 5
}
